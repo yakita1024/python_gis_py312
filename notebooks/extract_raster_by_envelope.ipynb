{
 "cells": [
  {
   "cell_type": "code",
   "execution_count": 4,
   "id": "54d9c7b0-37c3-4b2a-be4a-38007b2b4c31",
   "metadata": {},
   "outputs": [],
   "source": [
    "import os\n",
    "import math\n",
    "import numpy as np\n",
    "import pandas as pd\n",
    "import rasterio as rio\n",
    "from rasterio.warp import reproject, transform_bounds, Resampling\n",
    "from rasterio.windows import from_bounds\n",
    "from rasterio.transform import Affine"
   ]
  },
  {
   "cell_type": "code",
   "execution_count": 5,
   "id": "7bdfa2b2-6fd3-4071-85a4-f6817815c53c",
   "metadata": {},
   "outputs": [],
   "source": [
    "# Set directory and file names\n",
    "data_dir = r'/Users/yasuyukiakita/Data'\n",
    "results_dir = r'/Users/yasuyukiakita/Projects/python_gis_py312/results'\n",
    "landfire_dir = os.path.join(data_dir, 'landfire')\n",
    "lf_2023_fccs_raster = os.path.join(landfire_dir, 'LF2023_FCCS_240_CONUS', \n",
    "                                   'Tif', 'LC23_FCCS_240.tif')"
   ]
  },
  {
   "cell_type": "markdown",
   "id": "53eb385c-980c-4167-b3a4-5a944f6af3d2",
   "metadata": {},
   "source": [
    "# Extract raster using envelope"
   ]
  },
  {
   "cell_type": "code",
   "execution_count": 6,
   "id": "7f5b69e4-f9bb-449c-aeab-cbd274203bc4",
   "metadata": {},
   "outputs": [],
   "source": [
    "# Envelope coordinates (longitude/latitude or projected units)\n",
    "xmin = -2362390\n",
    "xmax = -1575139\n",
    "ymin = 1200000\n",
    "ymax = 2472128"
   ]
  },
  {
   "cell_type": "code",
   "execution_count": 7,
   "id": "fbe7e8e5-6679-414d-a13a-2f888a353b51",
   "metadata": {},
   "outputs": [],
   "source": [
    "def compute_adjusted_bounds(src_raster, xmin, ymin, xmax, ymax):\n",
    "    # Read source raster\n",
    "    with rio.open(src_raster) as src:\n",
    "        src_crs = src.crs\n",
    "        src_pixel_x, src_pixel_y = src.res\n",
    "        src_bounds = src.bounds\n",
    "\n",
    "    # Check xmin, xmax, ymin, ymax\n",
    "    if xmin < src_bounds[0]:\n",
    "        raise ValueError('xmin is smaller than xmin of source extent')\n",
    "    if xmax > src_bounds[2]:\n",
    "        raise ValueError('xmax is larger than xmax of source extent')\n",
    "    if ymin < src_bounds[1]:\n",
    "        raise ValueError('ymin is smaller than ymin of source extent')\n",
    "    if ymax > src_bounds[3]:\n",
    "        raise ValueError('ymax is larger than ymax of source extent')\n",
    "\n",
    "    # Compute adjusted bounds\n",
    "    adj_xmin = math.floor((xmin - src_bounds[0]) / src_pixel_x) * src_pixel_x + src_bounds[0]\n",
    "    adj_xmax = math.ceil((xmax - src_bounds[0]) / src_pixel_x) * src_pixel_x + src_bounds[0]\n",
    "    adj_ymin = math.floor((ymin - src_bounds[1]) / src_pixel_y) * src_pixel_y + src_bounds[1]\n",
    "    adj_ymax = math.ceil((ymax - src_bounds[1]) / src_pixel_y) * src_pixel_y + src_bounds[1]\n",
    "\n",
    "    # Check adjusted xmin, xmax, ymin, ymax\n",
    "    if adj_xmin > xmin:\n",
    "        raise ValueError('adjusted xmin is larger than original xmin')\n",
    "    if adj_xmax < xmax:\n",
    "        raise ValueError('adjusted xmax is smaller than original xmax')\n",
    "    if adj_ymin > ymin:\n",
    "        raise ValueError('adjusted ymin is larger than original ymin')\n",
    "    if adj_ymax < ymax:\n",
    "        raise ValueError('adjusted ymax is smaller than original ymax')\n",
    "    \n",
    "    return [adj_xmin, adj_ymin, adj_xmax, adj_ymax]"
   ]
  },
  {
   "cell_type": "code",
   "execution_count": 8,
   "id": "bc8fa800-29d0-48f1-91fc-c4ce1e7ce03a",
   "metadata": {},
   "outputs": [
    {
     "data": {
      "text/plain": [
       "[-2362395.0, 1199985.0, -1575135.0, 2472135.0]"
      ]
     },
     "execution_count": 8,
     "metadata": {},
     "output_type": "execute_result"
    }
   ],
   "source": [
    "compute_adjusted_bounds(lf_2023_fccs_raster, xmin, ymin, xmax, ymax)"
   ]
  },
  {
   "cell_type": "code",
   "execution_count": 9,
   "id": "218f8eba-c172-4049-86dd-fb1ee9b058ca",
   "metadata": {},
   "outputs": [],
   "source": [
    "def extract_raster_by_envelope(src_raster, dst_raster, xmin, ymin, xmax, ymax):\n",
    "    # Adjuste xmin, xmax, ymin, ymax\n",
    "    adj_xmin, adj_ymin, adj_xmax, adj_ymax = compute_adjusted_bounds(src_raster, xmin, ymin, xmax, ymax)\n",
    "    # Open the source raster\n",
    "    with rio.open(src_raster) as src:\n",
    "        # Create a window from the envelope bounds\n",
    "        window = from_bounds(adj_xmin, adj_ymin, adj_xmax, adj_ymax, \n",
    "                             transform=src.transform)\n",
    "        \n",
    "        # Read the data within the window\n",
    "        data = src.read(window=window)\n",
    "        \n",
    "        # Calculate the transform for the new window\n",
    "        transform = src.window_transform(window)\n",
    "        \n",
    "        # Update metadata for output\n",
    "        out_meta = src.meta.copy()\n",
    "        out_meta.update({\n",
    "            \"driver\": \"GTiff\",\n",
    "            \"height\": window.height,\n",
    "            \"width\": window.width,\n",
    "            \"transform\": transform, \n",
    "            \"compress\": 'lzw', \n",
    "        })\n",
    "        \n",
    "        # Write the cropped raster to a new file\n",
    "        with rio.open(dst_raster, \"w\", **out_meta) as dest:\n",
    "            dest.write(data)    "
   ]
  },
  {
   "cell_type": "code",
   "execution_count": 11,
   "id": "9117220f-388d-44be-98b0-d4a40217dfd5",
   "metadata": {},
   "outputs": [],
   "source": [
    "dst_raster = os.path.join(results_dir, 'landfire', 'LC23_FCCS_240_CA_only.tif')\n",
    "extract_raster_by_envelope(lf_2023_fccs_raster, dst_raster, xmin, ymin, xmax, ymax)"
   ]
  },
  {
   "cell_type": "code",
   "execution_count": null,
   "id": "1b516510-f4f2-41a7-aebf-999582e6c2c7",
   "metadata": {},
   "outputs": [],
   "source": []
  },
  {
   "cell_type": "code",
   "execution_count": null,
   "id": "d6e5b2ae-d6d2-408e-b383-8b72af0547f5",
   "metadata": {},
   "outputs": [],
   "source": []
  }
 ],
 "metadata": {
  "kernelspec": {
   "display_name": "Python 3 (ipykernel)",
   "language": "python",
   "name": "python3"
  },
  "language_info": {
   "codemirror_mode": {
    "name": "ipython",
    "version": 3
   },
   "file_extension": ".py",
   "mimetype": "text/x-python",
   "name": "python",
   "nbconvert_exporter": "python",
   "pygments_lexer": "ipython3",
   "version": "3.12.10"
  }
 },
 "nbformat": 4,
 "nbformat_minor": 5
}
